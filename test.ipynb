{
  "cells": [
    {
      "cell_type": "code",
      "execution_count": 1,
      "metadata": {},
      "outputs": [],
      "source": [
        "from app.core.config import settings\n",
        "from app.core.enums import LessonTypeEnum, UserType\n",
        "from app.db.session import SessionLocal, engine, get_db, Base\n",
        "from app.db.init_db import init_db, init_test_db\n",
        "from app.schemas.credit import CreditCreate\n",
        "from app.schemas.user import UserCreate\n",
        "from sqlalchemy.ext.declarative import declarative_base\n",
        "from app.crud.user import crud_user\n",
        "from app.crud.credit import crud_credit\n",
        "from app.models.credit import Credit\n",
        "from app.models.user import User\n"
      ]
    },
    {
      "cell_type": "code",
      "execution_count": 2,
      "metadata": {},
      "outputs": [],
      "source": [
        "db = SessionLocal()\n",
        "Base.metadata.create_all(bind=engine)\n",
        "init_test_db(db)\n"
      ]
    },
    {
      "cell_type": "code",
      "execution_count": 15,
      "metadata": {},
      "outputs": [
        {
          "data": {
            "text/plain": [
              "<models.credit.Credit at 0x7f0e717373a0>"
            ]
          },
          "execution_count": 15,
          "metadata": {},
          "output_type": "execute_result"
        }
      ],
      "source": []
    },
    {
      "cell_type": "markdown",
      "metadata": {},
      "source": [
        "### 코드 저장"
      ]
    },
    {
      "cell_type": "code",
      "execution_count": null,
      "metadata": {},
      "outputs": [],
      "source": [
        "# 수강 완료 시 크레딧 사용 완료\n",
        "credit_id = 12\n",
        "crud_credit.update_is_used_to_true(db, credit_id)"
      ]
    },
    {
      "cell_type": "code",
      "execution_count": 9,
      "metadata": {},
      "outputs": [
        {
          "data": {
            "text/plain": [
              "<models.credit.Credit at 0x7f0e717da380>"
            ]
          },
          "execution_count": 9,
          "metadata": {},
          "output_type": "execute_result"
        }
      ],
      "source": [
        "# 결제 시, 혹은 외상 신청시 크레딧 생성\n",
        "instructor_id = 4\n",
        "student_id = 5\n",
        "crud_credit.create(\n",
        "    db,\n",
        "    obj_in=CreditCreate(\n",
        "        credit_type=LessonTypeEnum.typePostPay,\n",
        "        own_student_id=student_id,\n",
        "        target_instructor_id=instructor_id,\n",
        "    ),\n",
        ")\n"
      ]
    },
    {
      "cell_type": "code",
      "execution_count": 6,
      "metadata": {},
      "outputs": [],
      "source": [
        "# instructor 번호 왔을 때 학생 리스트 보내주기\n",
        "def student_list_instructor():\n",
        "    instructor_id = 4\n",
        "    crud_credit.get_all_students_unused_credits_to_instructor(\n",
        "        db, instructor_id\n",
        "    )\n",
        "\n",
        "\n",
        "# 학생별 크레딜 리스트\n",
        "def credit_list_by_student():\n",
        "    instructor_id = 4\n",
        "    student_id = 5\n",
        "    crud_credit.get_student_unused_credits_to_instructor(\n",
        "        db, instructor_id, student_id\n",
        "    )\n"
      ]
    },
    {
      "cell_type": "code",
      "execution_count": null,
      "metadata": {},
      "outputs": [],
      "source": []
    }
  ],
  "metadata": {
    "kernelspec": {
      "display_name": "Python 3.10.4 ('dallantmusic-backend-grsaFriR')",
      "language": "python",
      "name": "python3"
    },
    "language_info": {
      "codemirror_mode": {
        "name": "ipython",
        "version": 3
      },
      "file_extension": ".py",
      "mimetype": "text/x-python",
      "name": "python",
      "nbconvert_exporter": "python",
      "pygments_lexer": "ipython3",
      "version": "3.10.4"
    },
    "orig_nbformat": 4,
    "vscode": {
      "interpreter": {
        "hash": "1a1bfac050e46988a43dc00f51989725778c65ed22a7fe56335463ce9d8d7720"
      }
    }
  },
  "nbformat": 4,
  "nbformat_minor": 2
}
